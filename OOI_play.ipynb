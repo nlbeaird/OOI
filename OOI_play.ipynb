{
 "cells": [
  {
   "cell_type": "markdown",
   "metadata": {},
   "source": [
    "# Just want to play with the OOI API \n",
    "I want to basically follow some of the simple examples from the OOI workshops to get and plot data\n",
    "\n",
    "This first bit is about building the request for data from a particular instrument. You are basically navigating a directory structure, and the request is like sending you the output of dir\n"
   ]
  },
  {
   "cell_type": "code",
   "execution_count": 11,
   "metadata": {},
   "outputs": [],
   "source": [
    "USERNAME  = 'OOIAPI-M3ZHX5W9PVAPNQ'\n",
    "TOKEN =  'TEMP-TOKEN-MM09XIOFPM8QV2'\n",
    "\n",
    "# the sensor base URL is the path to all sensor info\n",
    "SENSOR_BASE_URL = 'https://ooinet.oceanobservatories.org/api/m2m/12576/sensor/inv/'"
   ]
  },
  {
   "cell_type": "code",
   "execution_count": 2,
   "metadata": {},
   "outputs": [],
   "source": [
    "# First, we need to add some more Python libraries\n",
    "import requests\n",
    "import datetime"
   ]
  },
  {
   "cell_type": "code",
   "execution_count": 3,
   "metadata": {},
   "outputs": [
    {
     "name": "stdout",
     "output_type": "stream",
     "text": [
      "CE01ISSM\n",
      "CE01ISSP\n",
      "CE02SHBP\n",
      "CE02SHSM\n",
      "CE02SHSP\n",
      "CE04OSBP\n",
      "CE04OSPD\n",
      "CE04OSPI\n",
      "CE04OSPS\n",
      "CE04OSSM\n",
      "CE05MOAS\n",
      "CE06ISSM\n",
      "CE06ISSP\n",
      "CE07SHSM\n",
      "CE07SHSP\n",
      "CE09OSPM\n",
      "CE09OSSM\n",
      "CP01CNPM\n",
      "CP01CNSM\n",
      "CP01CNSP\n",
      "CP02PMCI\n",
      "CP02PMCO\n",
      "CP02PMUI\n",
      "CP02PMUO\n",
      "CP03ISPM\n",
      "CP03ISSM\n",
      "CP03ISSP\n",
      "CP04OSPM\n",
      "CP04OSSM\n",
      "CP05MOAS\n",
      "GA01SUMO\n",
      "GA02HYPM\n",
      "GA03FLMA\n",
      "GA03FLMB\n",
      "GA05MOAS\n",
      "GI01SUMO\n",
      "GI02HYPM\n",
      "GI03FLMA\n",
      "GI03FLMB\n",
      "GI05MOAS\n",
      "GP02HYPM\n",
      "GP03FLMA\n",
      "GP03FLMB\n",
      "GP05MOAS\n",
      "GS01SUMO\n",
      "GS02HYPM\n",
      "GS03FLMA\n",
      "GS03FLMB\n",
      "GS05MOAS\n",
      "RS01OSBP\n",
      "RS01SBPD\n",
      "RS01SBPS\n",
      "RS01SHBP\n",
      "RS01SHDR\n",
      "RS01SLBS\n",
      "RS01SUM1\n",
      "RS01SUM2\n",
      "RS03ASHS\n",
      "RS03AXBS\n",
      "RS03AXPD\n",
      "RS03AXPS\n",
      "RS03AXSM\n",
      "RS03CCAL\n",
      "RS03ECAL\n",
      "RS03INT1\n",
      "RS03INT2\n",
      "SSRSPACC\n"
     ]
    }
   ],
   "source": [
    "# get a list of all the site info:\n",
    "r = requests.get(SENSOR_BASE_URL, auth=(USERNAME, TOKEN))\n",
    "\n",
    "# now output all the site info:\n",
    "\n",
    "sites = r.json()\n",
    "for site in sites:\n",
    "  print( site )"
   ]
  },
  {
   "cell_type": "code",
   "execution_count": 4,
   "metadata": {},
   "outputs": [],
   "source": [
    "# A quick function to make an API request and print the results\n",
    "def get_and_print_api(url):\n",
    "  r = requests.get(url, auth=(USERNAME, TOKEN))\n",
    "  data = r.json()\n",
    "  for d in data:\n",
    "    print( d )"
   ]
  },
  {
   "cell_type": "markdown",
   "metadata": {},
   "source": [
    "List of nodes for a site"
   ]
  },
  {
   "cell_type": "code",
   "execution_count": 5,
   "metadata": {},
   "outputs": [
    {
     "name": "stdout",
     "output_type": "stream",
     "text": [
      "RIM01\n",
      "WFP02\n"
     ]
    }
   ],
   "source": [
    "# lets look at the Irminger sea site\n",
    "get_and_print_api(SENSOR_BASE_URL+'/GI02HYPM')"
   ]
  },
  {
   "cell_type": "code",
   "execution_count": 6,
   "metadata": {},
   "outputs": [
    {
     "name": "stdout",
     "output_type": "stream",
     "text": [
      "00-WFPENG000\n",
      "01-FLORDL000\n",
      "03-DOSTAL000\n",
      "04-CTDPFL000\n",
      "05-VEL3DL000\n"
     ]
    }
   ],
   "source": [
    "# lets look at the profiler instruments\n",
    "get_and_print_api(SENSOR_BASE_URL+'/GI02HYPM/WFP02')"
   ]
  },
  {
   "cell_type": "code",
   "execution_count": 7,
   "metadata": {},
   "outputs": [
    {
     "name": "stdout",
     "output_type": "stream",
     "text": [
      "recovered_wfp\n",
      "telemetered\n"
     ]
    }
   ],
   "source": [
    "# list the methods for the sensor\n",
    "get_and_print_api(SENSOR_BASE_URL+'/GI02HYPM/WFP02/04-CTDPFL000')"
   ]
  },
  {
   "cell_type": "code",
   "execution_count": 10,
   "metadata": {},
   "outputs": [
    {
     "name": "stdout",
     "output_type": "stream",
     "text": [
      "ctdpf_ckl_wfp_instrument_recovered\n",
      "ctdpf_ckl_wfp_metadata_recovered\n"
     ]
    }
   ],
   "source": [
    "# list the streams for a method\n",
    "get_and_print_api(SENSOR_BASE_URL+'/GI02HYPM/WFP02/04-CTDPFL000/recovered_wfp')"
   ]
  },
  {
   "cell_type": "markdown",
   "metadata": {},
   "source": [
    "\n",
    "From here if we add one of these streams to the data request, we will get the data:\n",
    "\n",
    "get_and_print_api(SENSOR_BASE_URL+'/GI02HYPM/WFP02/04-CTDPFL000/recovered_wfp/ctdpf_ckl_wfp_instrument_recovered')\n",
    "\n",
    "This is an asynchronous request, and we will get all of it. Sounds like this causes some problems on the server side right now\n",
    "\n",
    "Instead, we should set up a synchronous request that sends back a quick decimated version of the data for Expoloator purposes"
   ]
  },
  {
   "cell_type": "markdown",
   "metadata": {},
   "source": [
    "# Create quick, EDA, synchronous request\n",
    "\n",
    "build up the request\n"
   ]
  },
  {
   "cell_type": "code",
   "execution_count": 22,
   "metadata": {},
   "outputs": [],
   "source": [
    "\n",
    "# Instrument Information# \n",
    "site = 'GI02HYPM' \n",
    "node = 'WFP02'\n",
    "instrument = '04-CTDPFL000'\n",
    "method = 'recovered_wfp'\n",
    "stream = 'ctdpf_ckl_wfp_instrument_recovered'\n",
    "\n",
    "data_request_url ='/'.join((SENSOR_BASE_URL,site,node,instrument,method,stream))\n",
    "\n",
    "params = {\n",
    "  'beginDT':'2017-10-24T00:00:00.000Z',\n",
    "  'endDT':'2017-10-28T00:00:00.000Z',\n",
    "  'limit':5000,   \n",
    "}\n"
   ]
  },
  {
   "cell_type": "code",
   "execution_count": 23,
   "metadata": {},
   "outputs": [],
   "source": [
    "# Grab the data\n",
    "r = requests.get(data_request_url, params=params, auth=(USERNAME, TOKEN))\n",
    "data = r.json()"
   ]
  },
  {
   "cell_type": "code",
   "execution_count": 24,
   "metadata": {},
   "outputs": [
    {
     "data": {
      "text/plain": [
       "{'practical_salinity': 34.88065769854654,\n",
       " 'ctdpf_ckl_seawater_conductivity_qc_results': 29,\n",
       " 'ctdpf_ckl_seawater_pressure_qc_executed': 29,\n",
       " 'ctdpf_ckl_seawater_temperature_qc_results': 29,\n",
       " 'density_qc_executed': 29,\n",
       " 'driver_timestamp': 3741992266.523341,\n",
       " 'conductivity': 321066,\n",
       " 'practical_salinity_qc_results': 29,\n",
       " 'temperature': 68161,\n",
       " 'density': 1039.6014871819534,\n",
       " 'ctdpf_ckl_seawater_pressure': 2552.14,\n",
       " 'internal_timestamp': 3717771675.9989367,\n",
       " 'pk': {'node': 'WFP02',\n",
       "  'stream': 'ctdpf_ckl_wfp_instrument_recovered',\n",
       "  'subsite': 'GI02HYPM',\n",
       "  'deployment': 4,\n",
       "  'time': 3717771675.9989367,\n",
       "  'sensor': '04-CTDPFL000',\n",
       "  'method': 'recovered_wfp'},\n",
       " 'ctdpf_ckl_seawater_conductivity_qc_executed': 29,\n",
       " 'ctdpf_ckl_seawater_temperature': 1.8160999999999996,\n",
       " 'ingestion_timestamp': 3741992267.742,\n",
       " 'port_timestamp': 0.0,\n",
       " 'time': 3717771675.9989367,\n",
       " 'pressure': 256214,\n",
       " 'ctdpf_ckl_seawater_pressure_qc_results': 29,\n",
       " 'preferred_timestamp': 'internal_timestamp',\n",
       " 'practical_salinity_qc_executed': 29,\n",
       " 'ctdpf_ckl_seawater_conductivity': 3.16066,\n",
       " 'density_qc_results': 29,\n",
       " 'ctdpf_ckl_seawater_temperature_qc_executed': 29}"
      ]
     },
     "execution_count": 24,
     "metadata": {},
     "output_type": "execute_result"
    }
   ],
   "source": [
    "data[0]"
   ]
  },
  {
   "cell_type": "code",
   "execution_count": 29,
   "metadata": {},
   "outputs": [],
   "source": [
    "import pandas as pd\n",
    "import json\n",
    "import datetime\n",
    "import matplotlib.pyplot as plt\n",
    "import seaborn as sns\n",
    "\n",
    "sns.set_style(\"darkgrid\")"
   ]
  },
  {
   "cell_type": "code",
   "execution_count": 25,
   "metadata": {},
   "outputs": [
    {
     "data": {
      "text/html": [
       "<div>\n",
       "<style scoped>\n",
       "    .dataframe tbody tr th:only-of-type {\n",
       "        vertical-align: middle;\n",
       "    }\n",
       "\n",
       "    .dataframe tbody tr th {\n",
       "        vertical-align: top;\n",
       "    }\n",
       "\n",
       "    .dataframe thead th {\n",
       "        text-align: right;\n",
       "    }\n",
       "</style>\n",
       "<table border=\"1\" class=\"dataframe\">\n",
       "  <thead>\n",
       "    <tr style=\"text-align: right;\">\n",
       "      <th></th>\n",
       "      <th>time</th>\n",
       "      <th>ctdpf_ckl_seawater_pressure</th>\n",
       "      <th>ctdpf_ckl_seawater_temperature</th>\n",
       "      <th>density</th>\n",
       "      <th>practical_salinity</th>\n",
       "    </tr>\n",
       "  </thead>\n",
       "  <tbody>\n",
       "    <tr>\n",
       "      <th>0</th>\n",
       "      <td>3.717772e+09</td>\n",
       "      <td>2552.14</td>\n",
       "      <td>1.8161</td>\n",
       "      <td>1039.601487</td>\n",
       "      <td>34.880658</td>\n",
       "    </tr>\n",
       "    <tr>\n",
       "      <th>1</th>\n",
       "      <td>3.717835e+09</td>\n",
       "      <td>2553.72</td>\n",
       "      <td>1.8799</td>\n",
       "      <td>1039.598010</td>\n",
       "      <td>34.878902</td>\n",
       "    </tr>\n",
       "    <tr>\n",
       "      <th>2</th>\n",
       "      <td>3.717835e+09</td>\n",
       "      <td>2553.60</td>\n",
       "      <td>1.8815</td>\n",
       "      <td>1039.597579</td>\n",
       "      <td>34.879330</td>\n",
       "    </tr>\n",
       "    <tr>\n",
       "      <th>3</th>\n",
       "      <td>3.717835e+09</td>\n",
       "      <td>2553.68</td>\n",
       "      <td>1.8832</td>\n",
       "      <td>1039.597964</td>\n",
       "      <td>34.879679</td>\n",
       "    </tr>\n",
       "    <tr>\n",
       "      <th>4</th>\n",
       "      <td>3.717835e+09</td>\n",
       "      <td>2549.57</td>\n",
       "      <td>1.8930</td>\n",
       "      <td>1039.578055</td>\n",
       "      <td>34.879471</td>\n",
       "    </tr>\n",
       "  </tbody>\n",
       "</table>\n",
       "</div>"
      ],
      "text/plain": [
       "           time  ctdpf_ckl_seawater_pressure  ctdpf_ckl_seawater_temperature  \\\n",
       "0  3.717772e+09                      2552.14                          1.8161   \n",
       "1  3.717835e+09                      2553.72                          1.8799   \n",
       "2  3.717835e+09                      2553.60                          1.8815   \n",
       "3  3.717835e+09                      2553.68                          1.8832   \n",
       "4  3.717835e+09                      2549.57                          1.8930   \n",
       "\n",
       "       density  practical_salinity  \n",
       "0  1039.601487           34.880658  \n",
       "1  1039.598010           34.878902  \n",
       "2  1039.597579           34.879330  \n",
       "3  1039.597964           34.879679  \n",
       "4  1039.578055           34.879471  "
      ]
     },
     "execution_count": 25,
     "metadata": {},
     "output_type": "execute_result"
    }
   ],
   "source": [
    "# convert to pandas dataframe\n",
    "profiler = pd.read_json(json.dumps(data))\n",
    "\n",
    "# grab just a few columns:\n",
    "profiler = profiler[['time', 'ctdpf_ckl_seawater_pressure', 'ctdpf_ckl_seawater_temperature', 'density', 'practical_salinity']]\n",
    "\n",
    "profiler.head()"
   ]
  },
  {
   "cell_type": "code",
   "execution_count": 26,
   "metadata": {},
   "outputs": [],
   "source": [
    "# timestamps are seconds since jan 1 1900, so need some script to convert\n",
    "\n",
    "# Time Processing Routine\n",
    "ntp_epoch = datetime.datetime(1900, 1, 1)\n",
    "unix_epoch = datetime.datetime(1970, 1, 1)\n",
    "ntp_delta = (unix_epoch - ntp_epoch).total_seconds()\n",
    "\n",
    "def ntp_seconds_to_datetime(ntp_seconds):\n",
    "    return datetime.datetime.utcfromtimestamp(ntp_seconds - ntp_delta).replace(microsecond=0)"
   ]
  },
  {
   "cell_type": "markdown",
   "metadata": {},
   "source": [
    "convert the time stamps for the data, rename columns, and set the index of the pandas dataframe so you can use timeseries tools"
   ]
  },
  {
   "cell_type": "code",
   "execution_count": 27,
   "metadata": {},
   "outputs": [
    {
     "data": {
      "text/html": [
       "<div>\n",
       "<style scoped>\n",
       "    .dataframe tbody tr th:only-of-type {\n",
       "        vertical-align: middle;\n",
       "    }\n",
       "\n",
       "    .dataframe tbody tr th {\n",
       "        vertical-align: top;\n",
       "    }\n",
       "\n",
       "    .dataframe thead th {\n",
       "        text-align: right;\n",
       "    }\n",
       "</style>\n",
       "<table border=\"1\" class=\"dataframe\">\n",
       "  <thead>\n",
       "    <tr style=\"text-align: right;\">\n",
       "      <th></th>\n",
       "      <th>time</th>\n",
       "      <th>pressure</th>\n",
       "      <th>temperature</th>\n",
       "      <th>density</th>\n",
       "      <th>practical_salinity</th>\n",
       "    </tr>\n",
       "    <tr>\n",
       "      <th>datetime</th>\n",
       "      <th></th>\n",
       "      <th></th>\n",
       "      <th></th>\n",
       "      <th></th>\n",
       "      <th></th>\n",
       "    </tr>\n",
       "  </thead>\n",
       "  <tbody>\n",
       "    <tr>\n",
       "      <th>2017-10-23 18:21:15</th>\n",
       "      <td>3.717772e+09</td>\n",
       "      <td>2552.14</td>\n",
       "      <td>1.8161</td>\n",
       "      <td>1039.601487</td>\n",
       "      <td>34.880658</td>\n",
       "    </tr>\n",
       "    <tr>\n",
       "      <th>2017-10-24 12:00:02</th>\n",
       "      <td>3.717835e+09</td>\n",
       "      <td>2553.72</td>\n",
       "      <td>1.8799</td>\n",
       "      <td>1039.598010</td>\n",
       "      <td>34.878902</td>\n",
       "    </tr>\n",
       "    <tr>\n",
       "      <th>2017-10-24 12:00:08</th>\n",
       "      <td>3.717835e+09</td>\n",
       "      <td>2553.60</td>\n",
       "      <td>1.8815</td>\n",
       "      <td>1039.597579</td>\n",
       "      <td>34.879330</td>\n",
       "    </tr>\n",
       "    <tr>\n",
       "      <th>2017-10-24 12:01:17</th>\n",
       "      <td>3.717835e+09</td>\n",
       "      <td>2553.68</td>\n",
       "      <td>1.8832</td>\n",
       "      <td>1039.597964</td>\n",
       "      <td>34.879679</td>\n",
       "    </tr>\n",
       "    <tr>\n",
       "      <th>2017-10-24 12:02:26</th>\n",
       "      <td>3.717835e+09</td>\n",
       "      <td>2549.57</td>\n",
       "      <td>1.8930</td>\n",
       "      <td>1039.578055</td>\n",
       "      <td>34.879471</td>\n",
       "    </tr>\n",
       "  </tbody>\n",
       "</table>\n",
       "</div>"
      ],
      "text/plain": [
       "                             time  pressure  temperature      density  \\\n",
       "datetime                                                                \n",
       "2017-10-23 18:21:15  3.717772e+09   2552.14       1.8161  1039.601487   \n",
       "2017-10-24 12:00:02  3.717835e+09   2553.72       1.8799  1039.598010   \n",
       "2017-10-24 12:00:08  3.717835e+09   2553.60       1.8815  1039.597579   \n",
       "2017-10-24 12:01:17  3.717835e+09   2553.68       1.8832  1039.597964   \n",
       "2017-10-24 12:02:26  3.717835e+09   2549.57       1.8930  1039.578055   \n",
       "\n",
       "                     practical_salinity  \n",
       "datetime                                 \n",
       "2017-10-23 18:21:15           34.880658  \n",
       "2017-10-24 12:00:02           34.878902  \n",
       "2017-10-24 12:00:08           34.879330  \n",
       "2017-10-24 12:01:17           34.879679  \n",
       "2017-10-24 12:02:26           34.879471  "
      ]
     },
     "execution_count": 27,
     "metadata": {},
     "output_type": "execute_result"
    }
   ],
   "source": [
    "profiler['datetime'] = profiler['time'].apply(ntp_seconds_to_datetime)\n",
    "profiler = profiler.set_index('datetime')\n",
    "profiler.rename(columns={'ctdpf_ckl_seawater_pressure': 'pressure',\n",
    "                        'ctdpf_ckl_seawater_temperature': 'temperature'}, inplace=True)\n",
    "profiler.head()"
   ]
  },
  {
   "cell_type": "markdown",
   "metadata": {},
   "source": [
    "plot the profiler casts"
   ]
  },
  {
   "cell_type": "code",
   "execution_count": 30,
   "metadata": {},
   "outputs": [
    {
     "data": {
      "image/png": "[encoded data removed]",
      "text/plain": [
       "<Figure size 432x288 with 1 Axes>"
      ]
     },
     "metadata": {},
     "output_type": "display_data"
    }
   ],
   "source": [
    "profiler['pressure'].plot(kind='line', marker='.').invert_yaxis()"
   ]
  }
 ],
 "metadata": {
  "kernelspec": {
   "display_name": "Python 3",
   "language": "python",
   "name": "python3"
  },
  "language_info": {
   "codemirror_mode": {
    "name": "ipython",
    "version": 3
   },
   "file_extension": ".py",
   "mimetype": "text/x-python",
   "name": "python",
   "nbconvert_exporter": "python",
   "pygments_lexer": "ipython3",
   "version": "3.6.5"
  }
 },
 "nbformat": 4,
 "nbformat_minor": 2
}

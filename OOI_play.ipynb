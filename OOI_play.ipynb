{
 "cells": [
  {
   "cell_type": "markdown",
   "metadata": {},
   "source": [
    "# Just want to play with the OOI API \n",
    "I want to basically follow some of the simple examples from the OOI workshops to get and plot data\n"
   ]
  },
  {
   "cell_type": "code",
   "execution_count": 11,
   "metadata": {},
   "outputs": [],
   "source": [
    "USERNAME  = 'OOIAPI-M3ZHX5W9PVAPNQ'\n",
    "TOKEN =  'TEMP-TOKEN-MM09XIOFPM8QV2'\n",
    "\n",
    "# the sensor base URL is the path to all sensor info\n",
    "SENSOR_BASE_URL = 'https://ooinet.oceanobservatories.org/api/m2m/12576/sensor/inv/'"
   ]
  },
  {
   "cell_type": "code",
   "execution_count": 2,
   "metadata": {},
   "outputs": [],
   "source": [
    "# First, we need to add some more Python libraries\n",
    "import requests\n",
    "import datetime"
   ]
  },
  {
   "cell_type": "code",
   "execution_count": 3,
   "metadata": {},
   "outputs": [
    {
     "name": "stdout",
     "output_type": "stream",
     "text": [
      "CE01ISSM\n",
      "CE01ISSP\n",
      "CE02SHBP\n",
      "CE02SHSM\n",
      "CE02SHSP\n",
      "CE04OSBP\n",
      "CE04OSPD\n",
      "CE04OSPI\n",
      "CE04OSPS\n",
      "CE04OSSM\n",
      "CE05MOAS\n",
      "CE06ISSM\n",
      "CE06ISSP\n",
      "CE07SHSM\n",
      "CE07SHSP\n",
      "CE09OSPM\n",
      "CE09OSSM\n",
      "CP01CNPM\n",
      "CP01CNSM\n",
      "CP01CNSP\n",
      "CP02PMCI\n",
      "CP02PMCO\n",
      "CP02PMUI\n",
      "CP02PMUO\n",
      "CP03ISPM\n",
      "CP03ISSM\n",
      "CP03ISSP\n",
      "CP04OSPM\n",
      "CP04OSSM\n",
      "CP05MOAS\n",
      "GA01SUMO\n",
      "GA02HYPM\n",
      "GA03FLMA\n",
      "GA03FLMB\n",
      "GA05MOAS\n",
      "GI01SUMO\n",
      "GI02HYPM\n",
      "GI03FLMA\n",
      "GI03FLMB\n",
      "GI05MOAS\n",
      "GP02HYPM\n",
      "GP03FLMA\n",
      "GP03FLMB\n",
      "GP05MOAS\n",
      "GS01SUMO\n",
      "GS02HYPM\n",
      "GS03FLMA\n",
      "GS03FLMB\n",
      "GS05MOAS\n",
      "RS01OSBP\n",
      "RS01SBPD\n",
      "RS01SBPS\n",
      "RS01SHBP\n",
      "RS01SHDR\n",
      "RS01SLBS\n",
      "RS01SUM1\n",
      "RS01SUM2\n",
      "RS03ASHS\n",
      "RS03AXBS\n",
      "RS03AXPD\n",
      "RS03AXPS\n",
      "RS03AXSM\n",
      "RS03CCAL\n",
      "RS03ECAL\n",
      "RS03INT1\n",
      "RS03INT2\n",
      "SSRSPACC\n"
     ]
    }
   ],
   "source": [
    "# get a list of all the site info:\n",
    "r = requests.get(SENSOR_BASE_URL, auth=(USERNAME, TOKEN))\n",
    "\n",
    "# now output all the site info:\n",
    "\n",
    "sites = r.json()\n",
    "for site in sites:\n",
    "  print( site )"
   ]
  },
  {
   "cell_type": "code",
   "execution_count": 4,
   "metadata": {},
   "outputs": [],
   "source": [
    "# A quick function to make an API request and print the results\n",
    "def get_and_print_api(url):\n",
    "  r = requests.get(url, auth=(USERNAME, TOKEN))\n",
    "  data = r.json()\n",
    "  for d in data:\n",
    "    print( d )"
   ]
  },
  {
   "cell_type": "markdown",
   "metadata": {},
   "source": [
    "List of nodes for a site"
   ]
  },
  {
   "cell_type": "code",
   "execution_count": 5,
   "metadata": {},
   "outputs": [
    {
     "name": "stdout",
     "output_type": "stream",
     "text": [
      "RIM01\n",
      "WFP02\n"
     ]
    }
   ],
   "source": [
    "# lets look at the Irminger sea site\n",
    "get_and_print_api(SENSOR_BASE_URL+'/GI02HYPM')"
   ]
  },
  {
   "cell_type": "code",
   "execution_count": 6,
   "metadata": {},
   "outputs": [
    {
     "name": "stdout",
     "output_type": "stream",
     "text": [
      "00-WFPENG000\n",
      "01-FLORDL000\n",
      "03-DOSTAL000\n",
      "04-CTDPFL000\n",
      "05-VEL3DL000\n"
     ]
    }
   ],
   "source": [
    "# lets look at the profiler instruments\n",
    "get_and_print_api(SENSOR_BASE_URL+'/GI02HYPM/WFP02')"
   ]
  },
  {
   "cell_type": "code",
   "execution_count": 7,
   "metadata": {},
   "outputs": [
    {
     "name": "stdout",
     "output_type": "stream",
     "text": [
      "recovered_wfp\n",
      "telemetered\n"
     ]
    }
   ],
   "source": [
    "# list the methods for the sensor\n",
    "get_and_print_api(SENSOR_BASE_URL+'/GI02HYPM/WFP02/04-CTDPFL000')"
   ]
  },
  {
   "cell_type": "code",
   "execution_count": 10,
   "metadata": {},
   "outputs": [
    {
     "name": "stdout",
     "output_type": "stream",
     "text": [
      "ctdpf_ckl_wfp_instrument_recovered\n",
      "ctdpf_ckl_wfp_metadata_recovered\n"
     ]
    }
   ],
   "source": [
    "# list the streams for a method\n",
    "get_and_print_api(SENSOR_BASE_URL+'/GI02HYPM/WFP02/04-CTDPFL000/recovered_wfp')"
   ]
  },
  {
   "cell_type": "markdown",
   "metadata": {},
   "source": [
    "\n",
    "From here if we add one of these streams to the data request, we will get the data. This is an asynchronous request, and we will get all of it. Sounds like this causes some problems on the server side right now\n",
    "\n",
    "Instead, we should set up a synchronous request that sends back a quick decimated version of the data for Expoloator purposes"
   ]
  },
  {
   "cell_type": "markdown",
   "metadata": {},
   "source": [
    "# Create quick, EDA, synchronous request"
   ]
  }
 ],
 "metadata": {
  "kernelspec": {
   "display_name": "Python 3",
   "language": "python",
   "name": "python3"
  },
  "language_info": {
   "codemirror_mode": {
    "name": "ipython",
    "version": 3
   },
   "file_extension": ".py",
   "mimetype": "text/x-python",
   "name": "python",
   "nbconvert_exporter": "python",
   "pygments_lexer": "ipython3",
   "version": "3.6.5"
  }
 },
 "nbformat": 4,
 "nbformat_minor": 2
}
